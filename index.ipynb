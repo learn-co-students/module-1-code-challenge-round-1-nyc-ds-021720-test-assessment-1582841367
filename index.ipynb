{
 "cells": [
  {
   "cell_type": "markdown",
   "metadata": {},
   "source": [
    "# Demo Data Science Code Challenge\n",
    "\n",
    "This code challenge is designed to test your understanding of code challenge process. It covers:\n",
    "\n",
    "- Anwering a code question\n",
    "- Answering a short answer question\n",
    "\n",
    "Read the instructions carefully. You will be asked both to write code and respond to a few short answer questions.\n",
    "\n",
    "Note on the short answer questions\n",
    "For the short answer questions please use your own words. The expectation is that you have not copied and pasted from an external source, even if you consult another source to help craft your response. While the short answer questions are not necessarily being assessed on grammatical correctness or sentence structure, you should do your best to communicate yourself clearly."
   ]
  },
  {
   "cell_type": "markdown",
   "metadata": {},
   "source": [
    "### Question 1\n",
    "\n",
    "Adapt the `printnamefunction` to do the following:\n",
    "- take a name as an argument\n",
    "- print \"greetings! I am `name` and I am pleased to make your aquaintance!\"\n",
    "\n",
    "Then in the next cell, assign your actual name (ie \"Sir Patrick Stewart\" or \"Lupita Nyong'o\") to the variable `name`.\n",
    "\n",
    "Run both cells to confirm the result."
   ]
  },
  {
   "cell_type": "code",
   "execution_count": 8,
   "metadata": {},
   "outputs": [
    {
     "data": {
      "text/plain": [
       "'Greetings! I am Emilia, I am pleased to make your acqaintance!'"
      ]
     },
     "execution_count": 8,
     "metadata": {},
     "output_type": "execute_result"
    }
   ],
   "source": [
    "def printnamefunction(name):\n",
    "    \n",
    "    return (\"Greetings! I am \" + name.title() + \", I am pleased to make your acqaintance!\" )\n",
    "name = 'emilia'\n",
    "    \n",
    "printnamefunction(name)"
   ]
  },
  {
   "cell_type": "code",
   "execution_count": 11,
   "metadata": {},
   "outputs": [],
   "source": [
    "NAME = 'Sir Patrick'"
   ]
  },
  {
   "cell_type": "code",
   "execution_count": 12,
   "metadata": {},
   "outputs": [
    {
     "data": {
      "text/plain": [
       "'Greetings! I am Sir Patrick, I am pleased to make your acqaintance!'"
      ]
     },
     "execution_count": 12,
     "metadata": {},
     "output_type": "execute_result"
    }
   ],
   "source": [
    "printnamefunction(NAME)"
   ]
  },
  {
   "cell_type": "markdown",
   "metadata": {},
   "source": [
    "### Question 2:\n",
    "\n",
    "Please explain the purpose of code challenges in the flatiron school data science program."
   ]
  },
  {
   "cell_type": "code",
   "execution_count": null,
   "metadata": {},
   "outputs": [],
   "source": [
    "# Your written answer here\n",
    "\n"
   ]
  }
 ],
 "metadata": {
  "kernelspec": {
   "display_name": "Python 3",
   "language": "python",
   "name": "python3"
  },
  "language_info": {
   "codemirror_mode": {
    "name": "ipython",
    "version": 3
   },
   "file_extension": ".py",
   "mimetype": "text/x-python",
   "name": "python",
   "nbconvert_exporter": "python",
   "pygments_lexer": "ipython3",
   "version": "3.7.4"
  }
 },
 "nbformat": 4,
 "nbformat_minor": 4
}
