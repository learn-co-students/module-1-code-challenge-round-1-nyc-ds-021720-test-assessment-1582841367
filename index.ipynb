{
 "cells": [
  {
   "cell_type": "markdown",
   "metadata": {},
   "source": [
    "# Demo Data Science Code Challenge\n",
    "\n",
    "This code challenge is designed to test your understanding of code challenge process. It covers:\n",
    "\n",
    "- Anwering a code question\n",
    "- Answering a short answer question\n",
    "\n",
    "Read the instructions carefully. You will be asked both to write code and respond to a few short answer questions.\n",
    "\n",
    "Note on the short answer questions\n",
    "For the short answer questions please use your own words. The expectation is that you have not copied and pasted from an external source, even if you consult another source to help craft your response. While the short answer questions are not necessarily being assessed on grammatical correctness or sentence structure, you should do your best to communicate yourself clearly."
   ]
  },
  {
   "cell_type": "markdown",
   "metadata": {},
   "source": [
    "### Question 1\n",
    "\n",
    "Adapt the `printnamefunction` to do the following:\n",
    "- take a name as an argument\n",
    "- print \"greetings! I am `name` and I am pleased to make your aquaintance!\"\n",
    "\n",
    "Then in the next cell, assign your actual name (ie \"Sir Patrick Stewart\" or \"Lupita Nyong'o\") to the variable `name`.\n",
    "\n",
    "Run both cells to confirm the result."
   ]
  },
  {
   "cell_type": "code",
   "execution_count": 2,
   "metadata": {},
   "outputs": [],
   "source": [
    "def printnamefunction(name, timetype):\n",
    "    print(f\"Greetings! I am {name} and I'm here for a {timetype}!\")"
   ]
  },
  {
   "cell_type": "code",
   "execution_count": 3,
   "metadata": {},
   "outputs": [],
   "source": [
    "NAME = 'Chavid Burns'\n",
    "timetype = 'good time not a long time' # edit to set name as your actual name"
   ]
  },
  {
   "cell_type": "code",
   "execution_count": 4,
   "metadata": {},
   "outputs": [
    {
     "name": "stdout",
     "output_type": "stream",
     "text": [
      "Greetings! I am Chavid Burns and I'm here for a good time not a long time!\n"
     ]
    }
   ],
   "source": [
    "printnamefunction(NAME, timetype)"
   ]
  },
  {
   "cell_type": "markdown",
   "metadata": {},
   "source": [
    "### Question 2:\n",
    "\n",
    "Please explain the purpose of code challenges in the flatiron school data science program."
   ]
  },
  {
   "cell_type": "markdown",
   "metadata": {},
   "source": [
    "# Your written answer here\n",
    "\n",
    "They will help the instructors track our performance throughout the course.\n"
   ]
  },
  {
   "cell_type": "code",
   "execution_count": null,
   "metadata": {},
   "outputs": [],
   "source": []
  }
 ],
 "metadata": {
  "kernelspec": {
   "display_name": "Python 3",
   "language": "python",
   "name": "python3"
  },
  "language_info": {
   "codemirror_mode": {
    "name": "ipython",
    "version": 3
   },
   "file_extension": ".py",
   "mimetype": "text/x-python",
   "name": "python",
   "nbconvert_exporter": "python",
   "pygments_lexer": "ipython3",
   "version": "3.7.4"
  }
 },
 "nbformat": 4,
 "nbformat_minor": 4
}
